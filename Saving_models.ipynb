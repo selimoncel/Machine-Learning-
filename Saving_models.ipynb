{
 "cells": [
  {
   "cell_type": "code",
   "execution_count": 19,
   "id": "e27472c4-8d95-4488-ab99-36b9e75b46aa",
   "metadata": {
    "tags": []
   },
   "outputs": [
    {
     "name": "stderr",
     "output_type": "stream",
     "text": [
      "No artists with labels found to put in legend.  Note that artists whose label start with an underscore are ignored when legend() is called with no argument.\n"
     ]
    },
    {
     "name": "stdout",
     "output_type": "stream",
     "text": [
      "Accuracy: 0.8112276085100195\n",
      "Accuracy: 0.8386302099754597\n",
      "Accuracy: 0.6933091436842164\n",
      "Accuracy: 0.8094694631715553\n",
      "Accuracy: 0.7893983525489149\n",
      "Accuracy: 0.9258902208655818\n",
      "Accuracy: 0.8856323886645407\n",
      "Accuracy: 0.8223052320029626\n",
      "Accuracy: 0.7500064471148707\n",
      "Accuracy: 0.8282095618830232\n",
      "Accuracy: 0.808264113521414\n",
      "Accuracy: 0.8235449868514567\n",
      "Accuracy: 0.8121292378200765\n",
      "Accuracy: 0.8807042105370823\n",
      "Accuracy: 0.8520279513100095\n",
      "Accuracy: 0.8118305676178493\n",
      "Accuracy: 0.8112978250523015\n",
      "Accuracy: 0.8130503325323009\n",
      "Accuracy: 0.7653265911485496\n",
      "Accuracy: 0.9136149363441588\n",
      "-------------------------\n",
      "Coefficient: \n",
      " [ 0.1495828   0.98483654  0.03860766 -0.29841299 -0.21435018]\n",
      "Intercept: \n",
      " -1.4902406096302432\n",
      "-------------------------\n",
      "11.242914412373816 [12 11 16  1  1] 12\n",
      "4.387342371647255 [6 5 7 0 1] 6\n",
      "12.828510555273484 [13 13  0  0  2] 13\n",
      "8.599694438277668 [9 9 8 0 2] 9\n",
      "7.682377543956319 [11  8  2  0  2] 8\n",
      "9.352885024827557 [ 9 10  2  0  2] 10\n",
      "4.216447682647935 [ 5  5 12  0  2] 5\n",
      "15.102197086974085 [14 15  4  0  2] 15\n",
      "11.250943249615965 [10 12  4  1  2] 12\n",
      "9.126086901445452 [ 8 10  0  0  2] 12\n",
      "12.217302667201977 [12 12  8  0  1] 12\n",
      "10.098046774135298 [11 10  8  0  1] 10\n",
      "15.324147375787417 [16 15  2  0  2] 15\n",
      "12.678927751208338 [12 13  0  0  2] 13\n",
      "10.081582723769898 [10 10 17  0  2] 10\n",
      "12.614160372046914 [13 13  0  0  3] 13\n",
      "9.340437084672022 [ 8 10  0  0  1] 11\n",
      "9.49486772330594 [ 8 10  4  0  1] 10\n",
      "11.18617587045454 [11 12  4  1  3] 11\n",
      "15.671616312713732 [16 15 11  0  2] 15\n",
      "10.487304373393473 [10 11  2  0  2] 11\n",
      "4.134384528762205 [6 5 6 0 2] 6\n",
      "18.565374677264472 [17 18  0  0  1] 18\n",
      "9.430100344144517 [ 9 10  4  0  2] 10\n",
      "11.310110173673555 [ 8 12  0  0  1] 12\n",
      "7.9960866557929275 [10  8 14  0  2] 9\n",
      "12.06287202856806 [12 12  4  0  1] 13\n",
      "14.027697283000823 [13 14  0  0  1] 13\n",
      "10.439832768956355 [11 11  8  0  4] 10\n",
      "12.554240827454263 [13 13  4  0  4] 12\n",
      "6.890513619990527 [10  8  3  3  1] 7\n",
      "7.32732192750966 [5 9 6 2 2] 7\n",
      "17.868087525097373 [17 17 13  0  2] 17\n",
      "10.34532167491509 [11 11  0  0  3] 10\n",
      "11.771306526024532 [12 12  2  0  2] 11\n",
      "11.858970135014095 [12 12 12  1  2] 13\n",
      "14.947766448340166 [14 15  0  0  2] 15\n",
      "7.4603615773855605 [8 9 0 3 1] 10\n",
      "9.280517540079371 [ 8 10  4  0  2] 9\n",
      "-1.0214441516925032 [6 0 0 0 2] 0\n"
     ]
    },
    {
     "data": {
      "image/png": "[encoded data removed]",
      "text/plain": [
       "<Figure size 640x480 with 1 Axes>"
      ]
     },
     "metadata": {},
     "output_type": "display_data"
    }
   ],
   "source": [
    "import numpy as np\n",
    "import pandas as pd\n",
    "from sklearn import linear_model\n",
    "import sklearn\n",
    "from sklearn.utils import shuffle\n",
    "import matplotlib.pyplot as plt\n",
    "from matplotlib import style\n",
    "import pickle\n",
    "\n",
    "style.use(\"ggplot\")\n",
    "\n",
    "\n",
    "data = pd.read_csv(r\"C:\\Users\\selimonceldtan\\Desktop\\student_mat_2173a47420.csv\", sep=\";\")\n",
    "\n",
    "\n",
    "predict = \"G3\"\n",
    "data = data[[\"G1\", \"G2\", \"absences\", \"failures\", \"studytime\", \"G3\"]]\n",
    "data = shuffle(data)  \n",
    "\n",
    "\n",
    "X = np.array(data.drop([predict], axis=1)) \n",
    "y = np.array(data[predict])\n",
    "\n",
    "\n",
    "x_train, x_test, y_train, y_test = sklearn.model_selection.train_test_split(X, y, test_size=0.1)\n",
    "\n",
    "\n",
    "best = 0\n",
    "for _ in range(20):\n",
    "    x_train, x_test, y_train, y_test = sklearn.model_selection.train_test_split(X, y, test_size=0.1)\n",
    "\n",
    "    linear = linear_model.LinearRegression()\n",
    "\n",
    "    linear.fit(x_train, y_train)\n",
    "    acc = linear.score(x_test, y_test)\n",
    "    print(\"Accuracy: \" + str(acc))\n",
    "\n",
    "    if acc > best:\n",
    "        best = acc\n",
    "        with open(\"studentgrades.pickle\", \"wb\") as f:\n",
    "            pickle.dump(linear, f)\n",
    "\n",
    "\n",
    "pickle_in = open(\"studentgrades.pickle\", \"rb\")\n",
    "linear = pickle.load(pickle_in)\n",
    "\n",
    "print(\"-------------------------\")\n",
    "print('Coefficient: \\n', linear.coef_)\n",
    "print('Intercept: \\n', linear.intercept_)\n",
    "print(\"-------------------------\")\n",
    "\n",
    "\n",
    "predicted = linear.predict(x_test)\n",
    "for x in range(len(predicted)):\n",
    "    print(predicted[x], x_test[x], y_test[x])\n",
    "\n",
    "\n",
    "plot = \"studytime\"\n",
    "plt.scatter(data[plot], data[\"G3\"])\n",
    "plt.legend(loc=4)\n",
    "plt.xlabel(plot)\n",
    "plt.ylabel(\"Final Grade\")\n",
    "plt.show()\n"
   ]
  },
  {
   "cell_type": "code",
   "execution_count": 21,
   "id": "bba5a5a8-a09d-4e10-bb5e-8c3d946706a9",
   "metadata": {
    "tags": []
   },
   "outputs": [
    {
     "name": "stdout",
     "output_type": "stream",
     "text": [
      "Predictions for the new data:\n",
      "[11.51074858 15.16211663  7.49620016]\n"
     ]
    }
   ],
   "source": [
    "import numpy as np\n",
    "import pickle\n",
    "\n",
    "\n",
    "pickle_in = open(\"studentgrades.pickle\", \"rb\")  \n",
    "linear = pickle.load(pickle_in)  \n",
    "\n",
    "\n",
    "X_new = np.array([[10, 12, 3, 0, 2],   \n",
    "                  [14, 15, 0, 0, 1],  \n",
    "                  [7, 9, 6, 1, 4]])   \n",
    "\n",
    "\n",
    "predictions = linear.predict(X_new)\n",
    "\n",
    "\n",
    "print(\"Predictions for the new data:\")\n",
    "print(predictions)"
   ]
  },
  {
   "cell_type": "code",
   "execution_count": 22,
   "id": "d5c0e640-7d75-4620-aa64-aca32476484d",
   "metadata": {
    "tags": []
   },
   "outputs": [
    {
     "name": "stdout",
     "output_type": "stream",
     "text": [
      "Model Accuracy:  0.9193200597161074\n"
     ]
    }
   ],
   "source": [
    "acc = linear.score(x_test, y_test)  \n",
    "print(\"Model Accuracy: \", acc)\n"
   ]
  },
  {
   "cell_type": "code",
   "execution_count": 24,
   "id": "f580a4f5-7941-45a6-92ff-03bf1c05c6b6",
   "metadata": {
    "tags": []
   },
   "outputs": [
    {
     "name": "stdout",
     "output_type": "stream",
     "text": [
      "Predictions and Actual values:\n",
      "Predicted\tActual\n",
      "11.24\t\t12\n",
      "4.39\t\t6\n",
      "12.83\t\t13\n",
      "8.60\t\t9\n",
      "7.68\t\t8\n",
      "9.35\t\t10\n",
      "4.22\t\t5\n",
      "15.10\t\t15\n",
      "11.25\t\t12\n",
      "9.13\t\t12\n",
      "12.22\t\t12\n",
      "10.10\t\t10\n",
      "15.32\t\t15\n",
      "12.68\t\t13\n",
      "10.08\t\t10\n",
      "12.61\t\t13\n",
      "9.34\t\t11\n",
      "9.49\t\t10\n",
      "11.19\t\t11\n",
      "15.67\t\t15\n",
      "10.49\t\t11\n",
      "4.13\t\t6\n",
      "18.57\t\t18\n",
      "9.43\t\t10\n",
      "11.31\t\t12\n",
      "8.00\t\t9\n",
      "12.06\t\t13\n",
      "14.03\t\t13\n",
      "10.44\t\t10\n",
      "12.55\t\t12\n",
      "6.89\t\t7\n",
      "7.33\t\t7\n",
      "17.87\t\t17\n",
      "10.35\t\t10\n",
      "11.77\t\t11\n",
      "11.86\t\t13\n",
      "14.95\t\t15\n",
      "7.46\t\t10\n",
      "9.28\t\t9\n",
      "-1.02\t\t0\n"
     ]
    }
   ],
   "source": [
    "\n",
    "predictions = linear.predict(x_test)\n",
    "\n",
    "\n",
    "print(\"Predictions and Actual values:\")\n",
    "print(\"Predicted\\tActual\")  \n",
    "for predicted, actual in zip(predictions, y_test):  \n",
    "    print(f\"{predicted:.2f}\\t\\t{actual}\")\n",
    "\n"
   ]
  },
  {
   "cell_type": "code",
   "execution_count": null,
   "id": "478bdf4e-cd79-4a07-9822-584bb0c386fd",
   "metadata": {},
   "outputs": [],
   "source": []
  }
 ],
 "metadata": {
  "kernelspec": {
   "display_name": "Python 3 (ipykernel)",
   "language": "python",
   "name": "python3"
  },
  "language_info": {
   "codemirror_mode": {
    "name": "ipython",
    "version": 3
   },
   "file_extension": ".py",
   "mimetype": "text/x-python",
   "name": "python",
   "nbconvert_exporter": "python",
   "pygments_lexer": "ipython3",
   "version": "3.11.5"
  }
 },
 "nbformat": 4,
 "nbformat_minor": 5
}
