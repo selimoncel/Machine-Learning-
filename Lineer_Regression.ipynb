{
 "cells": [
  {
   "cell_type": "code",
   "execution_count": 2,
   "id": "7e74e029-dd2b-4698-9b94-ee4a0c64a7cc",
   "metadata": {
    "tags": []
   },
   "outputs": [],
   "source": [
    "\n",
    "import pandas as pd\n",
    "import numpy as np\n",
    "import sklearn\n",
    "from sklearn import linear_model\n",
    "from sklearn.utils import shuffle"
   ]
  },
  {
   "cell_type": "code",
   "execution_count": 6,
   "id": "12575100-d41d-4ea6-a6a2-7cc9c026b0ce",
   "metadata": {
    "tags": []
   },
   "outputs": [],
   "source": [
    "data = pd.read_csv(r\"C:\\Users\\selimonceldtan\\Desktop\\student_mat_2173a47420.csv\", sep=\";\")\n",
    "\n"
   ]
  },
  {
   "cell_type": "code",
   "execution_count": 7,
   "id": "ee276fad-028a-47c4-b471-7a3647479cd6",
   "metadata": {
    "tags": []
   },
   "outputs": [
    {
     "name": "stdout",
     "output_type": "stream",
     "text": [
      "  school sex  age address famsize Pstatus  Medu  Fedu     Mjob      Fjob  ...  \\\n",
      "0     GP   F   18       U     GT3       A     4     4  at_home   teacher  ...   \n",
      "1     GP   F   17       U     GT3       T     1     1  at_home     other  ...   \n",
      "2     GP   F   15       U     LE3       T     1     1  at_home     other  ...   \n",
      "3     GP   F   15       U     GT3       T     4     2   health  services  ...   \n",
      "4     GP   F   16       U     GT3       T     3     3    other     other  ...   \n",
      "\n",
      "  famrel freetime  goout  Dalc  Walc health absences  G1  G2  G3  \n",
      "0      4        3      4     1     1      3        6   5   6   6  \n",
      "1      5        3      3     1     1      3        4   5   5   6  \n",
      "2      4        3      2     2     3      3       10   7   8  10  \n",
      "3      3        2      2     1     1      5        2  15  14  15  \n",
      "4      4        3      2     1     2      5        4   6  10  10  \n",
      "\n",
      "[5 rows x 33 columns]\n"
     ]
    }
   ],
   "source": [
    "print(data.head())"
   ]
  },
  {
   "cell_type": "code",
   "execution_count": 8,
   "id": "e28346e2-f19e-4610-a5cc-4f26faa49757",
   "metadata": {
    "tags": []
   },
   "outputs": [],
   "source": [
    "data = data[[\"G1\", \"G2\", \"G3\", \"studytime\", \"failures\", \"absences\"]]"
   ]
  },
  {
   "cell_type": "code",
   "execution_count": 9,
   "id": "9ab1ca21-25d0-4728-8805-96c41f0471d3",
   "metadata": {
    "tags": []
   },
   "outputs": [
    {
     "name": "stdout",
     "output_type": "stream",
     "text": [
      "   G1  G2  G3  studytime  failures  absences\n",
      "0   5   6   6          2         0         6\n",
      "1   5   5   6          2         0         4\n",
      "2   7   8  10          2         3        10\n",
      "3  15  14  15          3         0         2\n",
      "4   6  10  10          2         0         4\n"
     ]
    }
   ],
   "source": [
    "print(data.head())"
   ]
  },
  {
   "cell_type": "code",
   "execution_count": 11,
   "id": "b11515fd-4de2-464e-9fd1-ab896dfa87ee",
   "metadata": {
    "tags": []
   },
   "outputs": [],
   "source": [
    "predict = \"G3\"\n",
    "\n",
    "# Özellikler (features) ve etiketler (labels)\n",
    "X = np.array(data.drop([predict], axis=1)) # Features\n",
    "y = np.array(data[predict]) # Labels"
   ]
  },
  {
   "cell_type": "code",
   "execution_count": 12,
   "id": "c0b4facc-26ac-4c08-b429-def7856533ee",
   "metadata": {
    "tags": []
   },
   "outputs": [],
   "source": [
    "x_train, x_test, y_train, y_test = sklearn.model_selection.train_test_split(X, y, test_size = 0.1)"
   ]
  },
  {
   "cell_type": "code",
   "execution_count": 13,
   "id": "c8f14c39-00bd-4bcd-91a5-cba5a80b7b58",
   "metadata": {
    "tags": []
   },
   "outputs": [],
   "source": [
    "linear = linear_model.LinearRegression()"
   ]
  },
  {
   "cell_type": "code",
   "execution_count": 14,
   "id": "b9bd8f4b-c6c1-4216-80f5-3f4d9d8144e0",
   "metadata": {
    "tags": []
   },
   "outputs": [],
   "source": [
    "linear.fit(x_train, y_train)\n",
    "acc = linear.score(x_test, y_test) # acc stands for accuracy "
   ]
  },
  {
   "cell_type": "code",
   "execution_count": 15,
   "id": "433c4b34-84df-43e5-a0db-a602653eb2f2",
   "metadata": {
    "tags": []
   },
   "outputs": [
    {
     "name": "stdout",
     "output_type": "stream",
     "text": [
      "0.8057815221516703\n"
     ]
    }
   ],
   "source": [
    "print(acc)"
   ]
  },
  {
   "cell_type": "code",
   "execution_count": 16,
   "id": "7d890eae-d7d6-4159-a8c1-467950cbb267",
   "metadata": {
    "tags": []
   },
   "outputs": [
    {
     "name": "stdout",
     "output_type": "stream",
     "text": [
      "Coefficient: \n",
      " [ 0.1589954   0.97630687 -0.19281618 -0.2269355   0.03876115]\n",
      "Intercept: \n",
      " -1.559609485360843\n"
     ]
    }
   ],
   "source": [
    "print('Coefficient: \\n', linear.coef_) # These are each slope value\n",
    "print('Intercept: \\n', linear.intercept_) # This is the intercept"
   ]
  },
  {
   "cell_type": "code",
   "execution_count": 17,
   "id": "a489ab1b-ce0d-4a25-ae77-f20eadcdd0a1",
   "metadata": {
    "tags": []
   },
   "outputs": [
    {
     "name": "stdout",
     "output_type": "stream",
     "text": [
      "5.790152071742347 [8 7 2 3 8] 8\n",
      "9.747739940511824 [ 8 10  1  0 12] 10\n",
      "12.079529779752711 [14 12  2  1  8] 12\n",
      "8.77538387944311 [9 9 1 0 8] 10\n",
      "8.930794591640067 [ 7 10  2  0  0] 11\n",
      "13.612491880913526 [11 12  2  0 54] 11\n",
      "18.726716573673286 [19 18  2  0  2] 18\n",
      "12.143519076984344 [12 12  2  0 12] 11\n",
      "7.4433146296915 [ 7  8  2  0 12] 8\n",
      "9.759592357385579 [11 10  1  0  0] 10\n",
      "5.774938492600023 [7 7 2 1 0] 0\n",
      "14.29685060294991 [14 14  1  0  4] 14\n",
      "7.329992435687192 [8 8 1 0 0] 11\n",
      "3.8863140564450553 [5 5 2 0 4] 6\n",
      "16.29909576551367 [16 16  4  0 12] 16\n",
      "13.616342638473958 [15 14  3  2  4] 15\n",
      "7.017565440925074 [ 9  7  2  0 18] 6\n",
      "17.543761995237666 [16 17  1  0  4] 18\n",
      "13.089955964076362 [14 13  3  0  8] 14\n",
      "5.882263178127846 [ 8  6  2  0 18] 7\n",
      "10.157450680089493 [11 11  4  0  0] 11\n",
      "11.910586069547714 [14 11  1  0 18] 13\n",
      "9.920566867028278 [12 10  3  0 10] 12\n",
      "5.162072098575802 [6 7 2 3 0] 0\n",
      "8.272478517154626 [9 9 2 0 0] 10\n",
      "16.297116651974903 [16 16  2  0  2] 16\n",
      "10.938596130196613 [13 11  2  0  2] 11\n",
      "2.8118985748897725 [7 4 1 2 0] 0\n",
      "7.455167046565254 [10  8  2  0  0] 9\n",
      "15.670649670629507 [16 15  3  0 16] 15\n",
      "10.698127633228427 [11 11  2  0  4] 11\n",
      "14.185507522484372 [15 14  2  0  2] 14\n",
      "9.254715303011281 [10 10  4  0  6] 11\n",
      "7.689414513418555 [ 9  8  2  1 16] 7\n",
      "12.65469217223961 [12 13  2  0  0] 14\n",
      "16.378589752839154 [17 16  2  0  0] 16\n",
      "16.34476896761329 [18 16  3  0  0] 16\n",
      "8.316180027168432 [10  9  3  0  2] 10\n",
      "9.672887783175822 [ 7 10  2  1 25] 11\n",
      "6.684985837571391 [ 7  8  2  3 10] 10\n"
     ]
    }
   ],
   "source": [
    "predictions = linear.predict(x_test) # Gets a list of all predictions\n",
    "\n",
    "for x in range(len(predictions)):\n",
    "    print(predictions[x], x_test[x], y_test[x])"
   ]
  },
  {
   "cell_type": "code",
   "execution_count": null,
   "id": "9ffb4e15-e093-4aa2-87c2-f59e5c8ccd28",
   "metadata": {},
   "outputs": [],
   "source": []
  }
 ],
 "metadata": {
  "kernelspec": {
   "display_name": "Python 3 (ipykernel)",
   "language": "python",
   "name": "python3"
  },
  "language_info": {
   "codemirror_mode": {
    "name": "ipython",
    "version": 3
   },
   "file_extension": ".py",
   "mimetype": "text/x-python",
   "name": "python",
   "nbconvert_exporter": "python",
   "pygments_lexer": "ipython3",
   "version": "3.11.5"
  }
 },
 "nbformat": 4,
 "nbformat_minor": 5
}
